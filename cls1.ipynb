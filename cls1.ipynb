{
 "cells": [
  {
   "cell_type": "code",
   "execution_count": null,
   "id": "7490d913-0066-49a7-93f1-1a096bd585c0",
   "metadata": {},
   "outputs": [],
   "source": []
  },
  {
   "cell_type": "code",
   "execution_count": 3,
   "id": "b382410f-86a2-43c7-9f4b-e5a29bb93ba0",
   "metadata": {},
   "outputs": [],
   "source": [
    "# shift + enter"
   ]
  },
  {
   "cell_type": "code",
   "execution_count": 4,
   "id": "0c98dab4-7117-4fe7-b8bc-cdeb35087816",
   "metadata": {},
   "outputs": [],
   "source": [
    "x = 10"
   ]
  },
  {
   "cell_type": "code",
   "execution_count": 5,
   "id": "19a1e802-4953-47bc-bdb3-b463110ee555",
   "metadata": {},
   "outputs": [
    {
     "data": {
      "text/plain": [
       "10"
      ]
     },
     "execution_count": 5,
     "metadata": {},
     "output_type": "execute_result"
    }
   ],
   "source": [
    "x"
   ]
  },
  {
   "cell_type": "code",
   "execution_count": 7,
   "id": "02e7042c-9a64-47e0-b362-9579b05b3c69",
   "metadata": {},
   "outputs": [
    {
     "name": "stdout",
     "output_type": "stream",
     "text": [
      "10\n"
     ]
    }
   ],
   "source": [
    "print(x)"
   ]
  },
  {
   "cell_type": "code",
   "execution_count": null,
   "id": "de6bb0e2-f263-40a9-93d9-0a0ab8c97b15",
   "metadata": {},
   "outputs": [],
   "source": []
  },
  {
   "cell_type": "code",
   "execution_count": null,
   "id": "0343100f-7e89-49e5-b3db-bc75e5a07012",
   "metadata": {},
   "outputs": [],
   "source": []
  },
  {
   "cell_type": "code",
   "execution_count": 8,
   "id": "15361482-d1a8-4dc8-8539-69a96f862df7",
   "metadata": {},
   "outputs": [],
   "source": [
    "# print() - used to display a msg or value of a variable"
   ]
  },
  {
   "cell_type": "code",
   "execution_count": null,
   "id": "5cace8c1-9f09-46d2-a904-f44f5efa9f29",
   "metadata": {},
   "outputs": [],
   "source": []
  },
  {
   "cell_type": "code",
   "execution_count": 9,
   "id": "d2405eb4-f9b4-429b-b84e-4824db067bc2",
   "metadata": {},
   "outputs": [],
   "source": [
    "name = \"ram\""
   ]
  },
  {
   "cell_type": "code",
   "execution_count": 10,
   "id": "1bcf6fc5-e441-4578-8f7a-ac8e5495a016",
   "metadata": {},
   "outputs": [
    {
     "name": "stdout",
     "output_type": "stream",
     "text": [
      "ram\n"
     ]
    }
   ],
   "source": [
    "print(name)"
   ]
  },
  {
   "cell_type": "code",
   "execution_count": 11,
   "id": "353ca618-f74c-4626-8f9b-cbda7ea95943",
   "metadata": {},
   "outputs": [
    {
     "name": "stdout",
     "output_type": "stream",
     "text": [
      "name\n"
     ]
    }
   ],
   "source": [
    "print(\"name\")"
   ]
  },
  {
   "cell_type": "code",
   "execution_count": 12,
   "id": "619a9447-d702-4c31-83ea-8bba8f327b15",
   "metadata": {},
   "outputs": [
    {
     "name": "stdout",
     "output_type": "stream",
     "text": [
      "hello hw r u\n"
     ]
    }
   ],
   "source": [
    "print(\"hello hw r u\")"
   ]
  },
  {
   "cell_type": "code",
   "execution_count": null,
   "id": "1ec1542d-8ca8-4c8f-b1ad-d56a119ac523",
   "metadata": {},
   "outputs": [],
   "source": []
  },
  {
   "cell_type": "code",
   "execution_count": 14,
   "id": "f44e70b3-23af-4cb2-b360-f421aba622c3",
   "metadata": {},
   "outputs": [
    {
     "name": "stdout",
     "output_type": "stream",
     "text": [
      "my name is ram my age is 23\n"
     ]
    }
   ],
   "source": [
    "name= \"ram\"\n",
    "age = 23\n",
    "\n",
    "print(\"my name is\" , name , \"my age is\" , age)"
   ]
  },
  {
   "cell_type": "code",
   "execution_count": 17,
   "id": "e4e17e7d-8f01-45ed-9a43-f21030edbc86",
   "metadata": {},
   "outputs": [
    {
     "name": "stdout",
     "output_type": "stream",
     "text": [
      "90\n"
     ]
    }
   ],
   "source": [
    "print(hello)"
   ]
  },
  {
   "cell_type": "code",
   "execution_count": 16,
   "id": "158b5b81-097a-4afe-9f22-8ba69d75200c",
   "metadata": {},
   "outputs": [],
   "source": [
    "hello = 90"
   ]
  },
  {
   "cell_type": "code",
   "execution_count": null,
   "id": "86483772-c27e-4093-9bb8-12357d469a51",
   "metadata": {},
   "outputs": [],
   "source": []
  },
  {
   "cell_type": "code",
   "execution_count": 18,
   "id": "6dbac1ad-a7d0-4ecb-8010-4f70be20f24f",
   "metadata": {},
   "outputs": [],
   "source": [
    "# operators"
   ]
  },
  {
   "cell_type": "code",
   "execution_count": 19,
   "id": "f6e2ff35-2007-434a-8fbe-a447d3084aa8",
   "metadata": {},
   "outputs": [],
   "source": []
  },
  {
   "cell_type": "code",
   "execution_count": 23,
   "id": "40ff98d1-9f47-4ea8-a83f-86e90a0a9d2e",
   "metadata": {},
   "outputs": [],
   "source": [
    "name1= \"Akhil\"\n",
    "age= 21\n"
   ]
  },
  {
   "cell_type": "code",
   "execution_count": 24,
   "id": "e7ad0567-faec-47bf-9446-b3098f71c867",
   "metadata": {},
   "outputs": [
    {
     "name": "stdout",
     "output_type": "stream",
     "text": [
      "My name is Akhil and my age is 21\n"
     ]
    }
   ],
   "source": [
    "print(\"My name is\", name1 , \"and my age is\", age)\n"
   ]
  },
  {
   "cell_type": "code",
   "execution_count": 28,
   "id": "1d0c8dac-94a5-4349-8da6-00da62e5bcd6",
   "metadata": {},
   "outputs": [],
   "source": [
    "x,y,z = 45,54,75"
   ]
  },
  {
   "cell_type": "code",
   "execution_count": 32,
   "id": "47f611cc-bf63-47a5-98c2-9bee8f887d86",
   "metadata": {},
   "outputs": [
    {
     "data": {
      "text/plain": [
       "120"
      ]
     },
     "execution_count": 32,
     "metadata": {},
     "output_type": "execute_result"
    }
   ],
   "source": [
    "x+z"
   ]
  },
  {
   "cell_type": "code",
   "execution_count": 34,
   "id": "7c4c0e88-ded7-4ddc-ac27-0b7ae3577c6f",
   "metadata": {},
   "outputs": [
    {
     "name": "stdout",
     "output_type": "stream",
     "text": [
      "x value is  45 , y value is  54 and z value is  75\n"
     ]
    }
   ],
   "source": [
    "print(\"x value is \", x,\", y value is \", y, \"and z value is \", z )\n"
   ]
  },
  {
   "cell_type": "code",
   "execution_count": 35,
   "id": "63689c88-7ac5-4b89-af58-cf5703bd6c55",
   "metadata": {},
   "outputs": [
    {
     "name": "stdout",
     "output_type": "stream",
     "text": [
      "total 174\n"
     ]
    }
   ],
   "source": [
    "print(\"total\", x+y+z)\n"
   ]
  },
  {
   "cell_type": "code",
   "execution_count": 38,
   "id": "9883885c-1bbb-4834-91b1-cb55c7222f7d",
   "metadata": {},
   "outputs": [],
   "source": [
    "Name= \"Ram\"\n",
    "Name1=\"Akash\"\n",
    "Name=\"raj\""
   ]
  },
  {
   "cell_type": "code",
   "execution_count": 40,
   "id": "60a94c7a-5390-45c1-9ed4-3d573a52690f",
   "metadata": {},
   "outputs": [
    {
     "name": "stdout",
     "output_type": "stream",
     "text": [
      "Akash\n"
     ]
    }
   ],
   "source": [
    "print(Name1)\n"
   ]
  },
  {
   "cell_type": "code",
   "execution_count": 42,
   "id": "d6480e2d-b50a-47f7-b547-47b245b3b789",
   "metadata": {},
   "outputs": [],
   "source": [
    "Name2= \"Ayush\"\n",
    "age=21\n",
    "address= \"dehradun U.K\"\n"
   ]
  },
  {
   "cell_type": "code",
   "execution_count": 44,
   "id": "241579f7-2bbd-43fc-a5fe-ff5d594ab2bf",
   "metadata": {},
   "outputs": [
    {
     "name": "stdout",
     "output_type": "stream",
     "text": [
      "My Name is  Ayush , my age is  21 and I live in  dehradun U.K\n"
     ]
    }
   ],
   "source": [
    "print(\"My Name is \", Name2, \", my age is \", age, \"and I live in \",address)"
   ]
  },
  {
   "cell_type": "code",
   "execution_count": 49,
   "id": "8e978b66-11ff-4465-bff9-f9de66387e6d",
   "metadata": {},
   "outputs": [],
   "source": [
    "first_name= \"Akash\"\n",
    "last_name= \" Negi\"\n",
    "\n",
    "\n"
   ]
  },
  {
   "cell_type": "code",
   "execution_count": 50,
   "id": "bec57ae5-074c-4cec-9c81-ebe954c4156c",
   "metadata": {},
   "outputs": [
    {
     "name": "stdout",
     "output_type": "stream",
     "text": [
      "Akash Negi\n"
     ]
    }
   ],
   "source": [
    "print(first_name +  last_name)"
   ]
  },
  {
   "cell_type": "code",
   "execution_count": 51,
   "id": "c0fa51ed-48fd-4fa3-8c0e-e56ca69ec353",
   "metadata": {},
   "outputs": [],
   "source": [
    "# airthmetic opr\n",
    "\n",
    "# + , - , * , % , // , / , **"
   ]
  },
  {
   "cell_type": "code",
   "execution_count": null,
   "id": "9809b3f1-2aab-49d0-8b78-1353131fc41e",
   "metadata": {},
   "outputs": [],
   "source": []
  },
  {
   "cell_type": "code",
   "execution_count": 52,
   "id": "0cc1145f-39cf-4aff-ac32-0246d0c91814",
   "metadata": {},
   "outputs": [],
   "source": [
    "a= 8\n",
    "b = 5"
   ]
  },
  {
   "cell_type": "code",
   "execution_count": 53,
   "id": "dc06612c-e1f5-4a1b-aedd-44c2da577c5c",
   "metadata": {},
   "outputs": [
    {
     "data": {
      "text/plain": [
       "13"
      ]
     },
     "execution_count": 53,
     "metadata": {},
     "output_type": "execute_result"
    }
   ],
   "source": [
    "a+b"
   ]
  },
  {
   "cell_type": "code",
   "execution_count": 54,
   "id": "80e53e51-feea-41ba-9dd9-9fc6fbfef0e0",
   "metadata": {},
   "outputs": [
    {
     "data": {
      "text/plain": [
       "13"
      ]
     },
     "execution_count": 54,
     "metadata": {},
     "output_type": "execute_result"
    }
   ],
   "source": [
    "4+9"
   ]
  },
  {
   "cell_type": "code",
   "execution_count": 56,
   "id": "e4a930da-cf3c-4828-ad3a-5c21f028a5e6",
   "metadata": {},
   "outputs": [
    {
     "name": "stdout",
     "output_type": "stream",
     "text": [
      "1\n"
     ]
    }
   ],
   "source": [
    "print(4-3)"
   ]
  },
  {
   "cell_type": "code",
   "execution_count": 57,
   "id": "d5edd663-b671-43c1-a2a8-18c453d8bd8d",
   "metadata": {},
   "outputs": [
    {
     "data": {
      "text/plain": [
       "28"
      ]
     },
     "execution_count": 57,
     "metadata": {},
     "output_type": "execute_result"
    }
   ],
   "source": [
    "4*7"
   ]
  },
  {
   "cell_type": "code",
   "execution_count": null,
   "id": "77935c0e-2e95-4838-aa24-d1cc8ad96688",
   "metadata": {},
   "outputs": [],
   "source": []
  },
  {
   "cell_type": "code",
   "execution_count": 58,
   "id": "39b9be4b-2396-4120-aa2e-45056ca680f5",
   "metadata": {},
   "outputs": [],
   "source": [
    "# / , // "
   ]
  },
  {
   "cell_type": "code",
   "execution_count": null,
   "id": "4c500aab-aa0c-4deb-9384-6a66697e3e8b",
   "metadata": {},
   "outputs": [],
   "source": []
  },
  {
   "cell_type": "code",
   "execution_count": 61,
   "id": "92d24de9-8311-41ec-8ae5-0d40d6e935dd",
   "metadata": {},
   "outputs": [
    {
     "data": {
      "text/plain": [
       "4.666666666666667"
      ]
     },
     "execution_count": 61,
     "metadata": {},
     "output_type": "execute_result"
    }
   ],
   "source": [
    "14/3    # return float value"
   ]
  },
  {
   "cell_type": "code",
   "execution_count": 62,
   "id": "c7359222-a35d-4bc4-b2c7-70ba1c9312b2",
   "metadata": {},
   "outputs": [
    {
     "data": {
      "text/plain": [
       "4"
      ]
     },
     "execution_count": 62,
     "metadata": {},
     "output_type": "execute_result"
    }
   ],
   "source": [
    "14//3   # return int value"
   ]
  },
  {
   "cell_type": "code",
   "execution_count": null,
   "id": "90a9448b-7f36-4966-8bc0-6b4e30268515",
   "metadata": {},
   "outputs": [],
   "source": []
  },
  {
   "cell_type": "code",
   "execution_count": 63,
   "id": "2335716c-9092-45bd-94db-4ac50bf888cb",
   "metadata": {},
   "outputs": [
    {
     "data": {
      "text/plain": [
       "3.0"
      ]
     },
     "execution_count": 63,
     "metadata": {},
     "output_type": "execute_result"
    }
   ],
   "source": [
    "24/8"
   ]
  },
  {
   "cell_type": "code",
   "execution_count": 64,
   "id": "138fa439-2614-4f7e-8c6f-77508b601a81",
   "metadata": {},
   "outputs": [
    {
     "data": {
      "text/plain": [
       "3"
      ]
     },
     "execution_count": 64,
     "metadata": {},
     "output_type": "execute_result"
    }
   ],
   "source": [
    "24//8"
   ]
  },
  {
   "cell_type": "code",
   "execution_count": 66,
   "id": "bc188d09-15e9-4c18-a5e8-5c60cc5af534",
   "metadata": {},
   "outputs": [
    {
     "data": {
      "text/plain": [
       "2"
      ]
     },
     "execution_count": 66,
     "metadata": {},
     "output_type": "execute_result"
    }
   ],
   "source": [
    "14%3   # reminder"
   ]
  },
  {
   "cell_type": "code",
   "execution_count": 67,
   "id": "f057b837-f100-4c84-93dc-6d7d11dd5c76",
   "metadata": {},
   "outputs": [
    {
     "data": {
      "text/plain": [
       "0"
      ]
     },
     "execution_count": 67,
     "metadata": {},
     "output_type": "execute_result"
    }
   ],
   "source": [
    "10%5"
   ]
  },
  {
   "cell_type": "code",
   "execution_count": 68,
   "id": "cb83948c-07a8-473a-aa3a-2a444195bbaf",
   "metadata": {},
   "outputs": [
    {
     "data": {
      "text/plain": [
       "12"
      ]
     },
     "execution_count": 68,
     "metadata": {},
     "output_type": "execute_result"
    }
   ],
   "source": [
    "3*4"
   ]
  },
  {
   "cell_type": "code",
   "execution_count": 69,
   "id": "de5fa58e-49c9-4bad-97e5-bdee32cd4e9e",
   "metadata": {},
   "outputs": [
    {
     "data": {
      "text/plain": [
       "81"
      ]
     },
     "execution_count": 69,
     "metadata": {},
     "output_type": "execute_result"
    }
   ],
   "source": [
    "3**4\n",
    "\n"
   ]
  },
  {
   "cell_type": "code",
   "execution_count": 70,
   "id": "ec68a7bb-b837-4ae1-8d43-32fe92d9d397",
   "metadata": {},
   "outputs": [
    {
     "data": {
      "text/plain": [
       "9"
      ]
     },
     "execution_count": 70,
     "metadata": {},
     "output_type": "execute_result"
    }
   ],
   "source": [
    "45//5\n"
   ]
  },
  {
   "cell_type": "markdown",
   "id": "207875dc-68db-49b1-ad57-5386bd06d66a",
   "metadata": {},
   "source": [
    "##### "
   ]
  },
  {
   "cell_type": "code",
   "execution_count": 71,
   "id": "a136409f-a0c9-4af3-81a9-45140b5467fb",
   "metadata": {},
   "outputs": [
    {
     "data": {
      "text/plain": [
       "5.0"
      ]
     },
     "execution_count": 71,
     "metadata": {},
     "output_type": "execute_result"
    }
   ],
   "source": [
    "45/9"
   ]
  },
  {
   "cell_type": "code",
   "execution_count": 72,
   "id": "0216eba5-6ec6-4887-bf62-3e8c6e87d95f",
   "metadata": {},
   "outputs": [
    {
     "data": {
      "text/plain": [
       "0"
      ]
     },
     "execution_count": 72,
     "metadata": {},
     "output_type": "execute_result"
    }
   ],
   "source": [
    "45%5"
   ]
  },
  {
   "cell_type": "code",
   "execution_count": 73,
   "id": "aebb9775-91da-42ec-8f0e-aa7cd54415d2",
   "metadata": {},
   "outputs": [
    {
     "data": {
      "text/plain": [
       "184528125"
      ]
     },
     "execution_count": 73,
     "metadata": {},
     "output_type": "execute_result"
    }
   ],
   "source": [
    "45**5"
   ]
  },
  {
   "cell_type": "code",
   "execution_count": 74,
   "id": "fc14d797-5e86-4f7a-9966-5df6198f3165",
   "metadata": {},
   "outputs": [
    {
     "data": {
      "text/plain": [
       "8"
      ]
     },
     "execution_count": 74,
     "metadata": {},
     "output_type": "execute_result"
    }
   ],
   "source": [
    "2**3\n",
    "\n"
   ]
  },
  {
   "cell_type": "code",
   "execution_count": 75,
   "id": "1d62ad70-bbde-440c-93d6-26f5da85bacc",
   "metadata": {},
   "outputs": [
    {
     "data": {
      "text/plain": [
       "0"
      ]
     },
     "execution_count": 75,
     "metadata": {},
     "output_type": "execute_result"
    }
   ],
   "source": [
    "12%3"
   ]
  },
  {
   "cell_type": "code",
   "execution_count": 76,
   "id": "f689a413-a7a5-4a17-8c55-fb32a99822ff",
   "metadata": {},
   "outputs": [
    {
     "data": {
      "text/plain": [
       "4"
      ]
     },
     "execution_count": 76,
     "metadata": {},
     "output_type": "execute_result"
    }
   ],
   "source": [
    "12//3"
   ]
  },
  {
   "cell_type": "code",
   "execution_count": 77,
   "id": "e3edfc59-73fa-4d76-aec7-6daf89cc1c01",
   "metadata": {},
   "outputs": [
    {
     "data": {
      "text/plain": [
       "4.0"
      ]
     },
     "execution_count": 77,
     "metadata": {},
     "output_type": "execute_result"
    }
   ],
   "source": [
    "12/3"
   ]
  },
  {
   "cell_type": "code",
   "execution_count": null,
   "id": "ad754580-be67-418c-9ca4-8d5e3444b219",
   "metadata": {},
   "outputs": [],
   "source": []
  },
  {
   "cell_type": "code",
   "execution_count": 79,
   "id": "3e28e1ad-59d3-4e3e-90a5-d0312eb3e232",
   "metadata": {},
   "outputs": [],
   "source": [
    "# comparison opr\n",
    "\n",
    "# == , != , < , > , <= , >=\n",
    "\n",
    "# returns o/p in bool data type\n",
    "\n",
    "# True , False"
   ]
  },
  {
   "cell_type": "code",
   "execution_count": 80,
   "id": "414f3e8e-be6c-434f-b575-4b4efad795ae",
   "metadata": {},
   "outputs": [],
   "source": [
    "a = 6"
   ]
  },
  {
   "cell_type": "code",
   "execution_count": 81,
   "id": "91b604bb-101f-41ba-9782-9f9f2baa8a14",
   "metadata": {},
   "outputs": [
    {
     "data": {
      "text/plain": [
       "int"
      ]
     },
     "execution_count": 81,
     "metadata": {},
     "output_type": "execute_result"
    }
   ],
   "source": [
    "type(a)"
   ]
  },
  {
   "cell_type": "code",
   "execution_count": 82,
   "id": "be71d316-e3e8-4053-997f-a2ddefa768db",
   "metadata": {},
   "outputs": [],
   "source": [
    "s =9.5"
   ]
  },
  {
   "cell_type": "code",
   "execution_count": 83,
   "id": "67e466f7-4424-4127-9d2c-6fb4b89ae21f",
   "metadata": {},
   "outputs": [
    {
     "data": {
      "text/plain": [
       "float"
      ]
     },
     "execution_count": 83,
     "metadata": {},
     "output_type": "execute_result"
    }
   ],
   "source": [
    "type(s)"
   ]
  },
  {
   "cell_type": "code",
   "execution_count": 84,
   "id": "3f01a16c-f269-4244-a942-e38f1fb4feba",
   "metadata": {},
   "outputs": [],
   "source": [
    "a = \"hi\""
   ]
  },
  {
   "cell_type": "code",
   "execution_count": 85,
   "id": "eb9c5627-7093-4f3c-b3c5-0588fbb8c984",
   "metadata": {},
   "outputs": [
    {
     "data": {
      "text/plain": [
       "str"
      ]
     },
     "execution_count": 85,
     "metadata": {},
     "output_type": "execute_result"
    }
   ],
   "source": [
    "type(a)"
   ]
  },
  {
   "cell_type": "code",
   "execution_count": null,
   "id": "18bb8107-83cb-4f93-a612-dad742a6db47",
   "metadata": {},
   "outputs": [],
   "source": []
  },
  {
   "cell_type": "code",
   "execution_count": null,
   "id": "2662558b-c560-463e-b460-c1a42103cbb0",
   "metadata": {},
   "outputs": [],
   "source": []
  },
  {
   "cell_type": "code",
   "execution_count": 86,
   "id": "8cc9e10d-ed70-4444-94a1-bd306664c3c7",
   "metadata": {},
   "outputs": [],
   "source": [
    "a = 10\n",
    "b = 15"
   ]
  },
  {
   "cell_type": "code",
   "execution_count": 87,
   "id": "3d0ec362-d4ca-4276-9671-1d62a67c9bb4",
   "metadata": {},
   "outputs": [
    {
     "data": {
      "text/plain": [
       "False"
      ]
     },
     "execution_count": 87,
     "metadata": {},
     "output_type": "execute_result"
    }
   ],
   "source": [
    "a==b"
   ]
  },
  {
   "cell_type": "code",
   "execution_count": 88,
   "id": "dd7a947c-18e5-4885-a194-758224b70a47",
   "metadata": {},
   "outputs": [
    {
     "data": {
      "text/plain": [
       "True"
      ]
     },
     "execution_count": 88,
     "metadata": {},
     "output_type": "execute_result"
    }
   ],
   "source": [
    "a != b"
   ]
  },
  {
   "cell_type": "code",
   "execution_count": 89,
   "id": "27abf164-94a4-40d8-98b1-84de6a2e1613",
   "metadata": {},
   "outputs": [
    {
     "data": {
      "text/plain": [
       "False"
      ]
     },
     "execution_count": 89,
     "metadata": {},
     "output_type": "execute_result"
    }
   ],
   "source": [
    "a>b"
   ]
  },
  {
   "cell_type": "code",
   "execution_count": 90,
   "id": "903b2eb4-4c7d-4903-8d2b-f48f0b81181b",
   "metadata": {},
   "outputs": [
    {
     "data": {
      "text/plain": [
       "True"
      ]
     },
     "execution_count": 90,
     "metadata": {},
     "output_type": "execute_result"
    }
   ],
   "source": [
    "a<b"
   ]
  },
  {
   "cell_type": "code",
   "execution_count": null,
   "id": "f097e7fd-d2c8-4d8b-92e6-560b3627064c",
   "metadata": {},
   "outputs": [],
   "source": []
  },
  {
   "cell_type": "code",
   "execution_count": 91,
   "id": "4b92d8cc-b4c7-4696-b5a0-4a47e9aa0ba7",
   "metadata": {},
   "outputs": [],
   "source": [
    "# logical opr\n",
    "\n",
    "# and , or"
   ]
  },
  {
   "cell_type": "code",
   "execution_count": null,
   "id": "38908a7e-8dfe-43bb-a1df-bbcf81db32ab",
   "metadata": {},
   "outputs": [],
   "source": []
  },
  {
   "cell_type": "code",
   "execution_count": 92,
   "id": "e26a0d07-a7e3-4d62-8d45-cbe974709f50",
   "metadata": {},
   "outputs": [],
   "source": [
    "a = 10\n",
    "b = 20"
   ]
  },
  {
   "cell_type": "code",
   "execution_count": 93,
   "id": "af79b46f-8553-4311-8737-d19c9eeebd1f",
   "metadata": {},
   "outputs": [
    {
     "data": {
      "text/plain": [
       "False"
      ]
     },
     "execution_count": 93,
     "metadata": {},
     "output_type": "execute_result"
    }
   ],
   "source": [
    "a>3 and b>21"
   ]
  },
  {
   "cell_type": "code",
   "execution_count": 94,
   "id": "affc7589-37f3-47a3-a395-061002a13da6",
   "metadata": {},
   "outputs": [
    {
     "data": {
      "text/plain": [
       "True"
      ]
     },
     "execution_count": 94,
     "metadata": {},
     "output_type": "execute_result"
    }
   ],
   "source": [
    "a>3 and b>12"
   ]
  },
  {
   "cell_type": "code",
   "execution_count": 95,
   "id": "ed004e03-25ae-4921-baab-fb3668b558ee",
   "metadata": {},
   "outputs": [
    {
     "data": {
      "text/plain": [
       "True"
      ]
     },
     "execution_count": 95,
     "metadata": {},
     "output_type": "execute_result"
    }
   ],
   "source": [
    "a>3 or b>21"
   ]
  },
  {
   "cell_type": "code",
   "execution_count": 97,
   "id": "8ff71527-9fac-4e4a-81c2-a0cc2829b31c",
   "metadata": {},
   "outputs": [],
   "source": [
    "a= \"akhil\"\n",
    "b= \"raj\"\n"
   ]
  },
  {
   "cell_type": "code",
   "execution_count": 98,
   "id": "86fe85b2-dabf-422f-92ee-efb8783034ae",
   "metadata": {},
   "outputs": [
    {
     "data": {
      "text/plain": [
       "False"
      ]
     },
     "execution_count": 98,
     "metadata": {},
     "output_type": "execute_result"
    }
   ],
   "source": [
    "a==b"
   ]
  },
  {
   "cell_type": "code",
   "execution_count": 101,
   "id": "e309fbd9-69ca-4696-8f27-7880f23447c2",
   "metadata": {},
   "outputs": [
    {
     "data": {
      "text/plain": [
       "True"
      ]
     },
     "execution_count": 101,
     "metadata": {},
     "output_type": "execute_result"
    }
   ],
   "source": [
    "a!= b"
   ]
  },
  {
   "cell_type": "code",
   "execution_count": 113,
   "id": "943b1872-0db9-4dbb-9c6c-646d7c255219",
   "metadata": {},
   "outputs": [],
   "source": [
    "a= 40\n",
    "b=80\n",
    "c=90\n",
    "d=100"
   ]
  },
  {
   "cell_type": "code",
   "execution_count": 103,
   "id": "67257e58-1c30-46ba-a000-904142653506",
   "metadata": {},
   "outputs": [
    {
     "data": {
      "text/plain": [
       "True"
      ]
     },
     "execution_count": 103,
     "metadata": {},
     "output_type": "execute_result"
    }
   ],
   "source": [
    "a<d and c<d"
   ]
  },
  {
   "cell_type": "code",
   "execution_count": 104,
   "id": "d7f207f0-f213-48b7-8d02-f01cab1c49ae",
   "metadata": {},
   "outputs": [
    {
     "data": {
      "text/plain": [
       "False"
      ]
     },
     "execution_count": 104,
     "metadata": {},
     "output_type": "execute_result"
    }
   ],
   "source": [
    "a>c and b<a"
   ]
  },
  {
   "cell_type": "code",
   "execution_count": 115,
   "id": "b5bec624-77dc-4a1a-9a0e-387419272665",
   "metadata": {},
   "outputs": [
    {
     "data": {
      "text/plain": [
       "True"
      ]
     },
     "execution_count": 115,
     "metadata": {},
     "output_type": "execute_result"
    }
   ],
   "source": [
    "a>c or d<a or b>a"
   ]
  },
  {
   "cell_type": "code",
   "execution_count": null,
   "id": "4b6f79f8-60ca-4a92-899a-ae41b734110f",
   "metadata": {},
   "outputs": [],
   "source": []
  },
  {
   "cell_type": "code",
   "execution_count": 116,
   "id": "b9c74690-9b71-4939-8a7d-8f5de5934b03",
   "metadata": {},
   "outputs": [],
   "source": [
    "# membership opr\n",
    "\n",
    "# in , not in\n",
    "\n",
    "# it check wether an elemnt is presnt in seqntial dtype or not"
   ]
  },
  {
   "cell_type": "code",
   "execution_count": 117,
   "id": "dd7ecf55-dca9-45a6-a45b-678d6975ecd2",
   "metadata": {},
   "outputs": [],
   "source": [
    "s = \"hello\""
   ]
  },
  {
   "cell_type": "code",
   "execution_count": 118,
   "id": "8107dd2a-ace8-4dbd-bff0-1761b226d1d4",
   "metadata": {},
   "outputs": [
    {
     "data": {
      "text/plain": [
       "True"
      ]
     },
     "execution_count": 118,
     "metadata": {},
     "output_type": "execute_result"
    }
   ],
   "source": [
    "\"e\" in s"
   ]
  },
  {
   "cell_type": "code",
   "execution_count": 119,
   "id": "d2a1b440-a2b2-45d0-8d1c-1e8112d60fcb",
   "metadata": {},
   "outputs": [
    {
     "data": {
      "text/plain": [
       "True"
      ]
     },
     "execution_count": 119,
     "metadata": {},
     "output_type": "execute_result"
    }
   ],
   "source": [
    "\"k\" not in s"
   ]
  },
  {
   "cell_type": "code",
   "execution_count": 123,
   "id": "8d0fcdc3-944c-4e33-bdcf-aa2776cc5f39",
   "metadata": {},
   "outputs": [],
   "source": [
    "A= \"akhil\"\n"
   ]
  },
  {
   "cell_type": "code",
   "execution_count": 124,
   "id": "2dc7cc5f-d7c4-43a2-844e-bfb49280202f",
   "metadata": {},
   "outputs": [
    {
     "data": {
      "text/plain": [
       "False"
      ]
     },
     "execution_count": 124,
     "metadata": {},
     "output_type": "execute_result"
    }
   ],
   "source": [
    "\"A\" in A\n"
   ]
  },
  {
   "cell_type": "code",
   "execution_count": 125,
   "id": "4f9bfb3e-3b64-40c1-b7cf-ccec7eb8212b",
   "metadata": {},
   "outputs": [
    {
     "data": {
      "text/plain": [
       "True"
      ]
     },
     "execution_count": 125,
     "metadata": {},
     "output_type": "execute_result"
    }
   ],
   "source": [
    "\"a\" in A"
   ]
  },
  {
   "cell_type": "code",
   "execution_count": 126,
   "id": "23d34dfc-4fbe-4b0f-bab3-9579de7b55f6",
   "metadata": {},
   "outputs": [
    {
     "data": {
      "text/plain": [
       "False"
      ]
     },
     "execution_count": 126,
     "metadata": {},
     "output_type": "execute_result"
    }
   ],
   "source": [
    "\"k\" not in A"
   ]
  },
  {
   "cell_type": "code",
   "execution_count": 127,
   "id": "6129bf93-1186-45bc-953d-f2e61c57dd39",
   "metadata": {},
   "outputs": [
    {
     "data": {
      "text/plain": [
       "True"
      ]
     },
     "execution_count": 127,
     "metadata": {},
     "output_type": "execute_result"
    }
   ],
   "source": [
    "\"k\" in A"
   ]
  },
  {
   "cell_type": "code",
   "execution_count": 128,
   "id": "4dffca4b-a053-4fb1-8248-3737cb1bcc61",
   "metadata": {},
   "outputs": [
    {
     "data": {
      "text/plain": [
       "True"
      ]
     },
     "execution_count": 128,
     "metadata": {},
     "output_type": "execute_result"
    }
   ],
   "source": [
    "\"p\" not in A"
   ]
  },
  {
   "cell_type": "code",
   "execution_count": 129,
   "id": "0d1e7139-db30-41e9-ba22-94270a63b195",
   "metadata": {},
   "outputs": [
    {
     "data": {
      "text/plain": [
       "False"
      ]
     },
     "execution_count": 129,
     "metadata": {},
     "output_type": "execute_result"
    }
   ],
   "source": [
    "\"p\" in A"
   ]
  },
  {
   "cell_type": "code",
   "execution_count": 130,
   "id": "295c3ff5-8dcb-4474-b505-6b01d545668b",
   "metadata": {},
   "outputs": [],
   "source": [
    "k = \"arjun\""
   ]
  },
  {
   "cell_type": "code",
   "execution_count": 131,
   "id": "bdd156ac-5e77-414c-ae0b-ba01dd371a16",
   "metadata": {},
   "outputs": [
    {
     "data": {
      "text/plain": [
       "True"
      ]
     },
     "execution_count": 131,
     "metadata": {},
     "output_type": "execute_result"
    }
   ],
   "source": [
    "\"J\" not in k"
   ]
  },
  {
   "cell_type": "code",
   "execution_count": 132,
   "id": "184a4e14-5e0b-4085-9153-b204f9af95ea",
   "metadata": {},
   "outputs": [
    {
     "data": {
      "text/plain": [
       "False"
      ]
     },
     "execution_count": 132,
     "metadata": {},
     "output_type": "execute_result"
    }
   ],
   "source": [
    "\"j\" not in k"
   ]
  },
  {
   "cell_type": "code",
   "execution_count": null,
   "id": "1e42b672-4db0-47b0-b476-5fe7e6cf48c2",
   "metadata": {},
   "outputs": [],
   "source": []
  },
  {
   "cell_type": "code",
   "execution_count": null,
   "id": "df313c8a-714a-4f79-9a54-3359855caa1a",
   "metadata": {},
   "outputs": [],
   "source": []
  },
  {
   "cell_type": "code",
   "execution_count": 133,
   "id": "bc696a26-aed6-44fe-83a0-1e040f17dd4b",
   "metadata": {},
   "outputs": [],
   "source": [
    "# static input\n",
    "# dynamic input"
   ]
  },
  {
   "cell_type": "code",
   "execution_count": 138,
   "id": "44209f6b-20c9-481c-b01f-de4bace9c45c",
   "metadata": {},
   "outputs": [
    {
     "data": {
      "text/plain": [
       "11"
      ]
     },
     "execution_count": 138,
     "metadata": {},
     "output_type": "execute_result"
    }
   ],
   "source": [
    "a = 5\n",
    "b = 6\n",
    "\n",
    "a+b"
   ]
  },
  {
   "cell_type": "code",
   "execution_count": null,
   "id": "5fef8761-bb42-475d-bafd-68126bcf2e71",
   "metadata": {},
   "outputs": [],
   "source": []
  },
  {
   "cell_type": "code",
   "execution_count": 139,
   "id": "b449ce80-ae8f-4410-b810-da3fd23a2edc",
   "metadata": {},
   "outputs": [],
   "source": [
    "# input() - takes input from user"
   ]
  },
  {
   "cell_type": "code",
   "execution_count": 140,
   "id": "6c2eb954-44d4-4e5a-bbd4-afd281d2a473",
   "metadata": {},
   "outputs": [
    {
     "name": "stdin",
     "output_type": "stream",
     "text": [
      "enter ur name = ak\n"
     ]
    },
    {
     "name": "stdout",
     "output_type": "stream",
     "text": [
      "ak\n"
     ]
    }
   ],
   "source": [
    "x = input(\"enter ur name =\")\n",
    "\n",
    "print(x)"
   ]
  },
  {
   "cell_type": "code",
   "execution_count": 147,
   "id": "20f0ad22-3e71-46cf-a937-6f21f190f827",
   "metadata": {},
   "outputs": [
    {
     "name": "stdin",
     "output_type": "stream",
     "text": [
      "first value= 5\n",
      "second value= 4\n"
     ]
    },
    {
     "name": "stdout",
     "output_type": "stream",
     "text": [
      "9\n"
     ]
    }
   ],
   "source": [
    "a=  int(input(\"first value=\"))\n",
    "b=  int(input(\"second value=\"))\n",
    "total=a+b\n",
    "print(total)\n",
    "     "
   ]
  },
  {
   "cell_type": "code",
   "execution_count": null,
   "id": "ecf7d319-19ca-4525-b5d2-426ac2057621",
   "metadata": {},
   "outputs": [],
   "source": []
  },
  {
   "cell_type": "code",
   "execution_count": 145,
   "id": "4bb490c4-6113-4b31-adec-3fb975781ffc",
   "metadata": {},
   "outputs": [
    {
     "data": {
      "text/plain": [
       "'34'"
      ]
     },
     "execution_count": 145,
     "metadata": {},
     "output_type": "execute_result"
    }
   ],
   "source": [
    "\"3\" + \"4\""
   ]
  },
  {
   "cell_type": "code",
   "execution_count": 1,
   "id": "bae4d908-a9df-45f2-acb8-82677b568450",
   "metadata": {},
   "outputs": [],
   "source": [
    "a=4\n",
    "b=20\n"
   ]
  },
  {
   "cell_type": "code",
   "execution_count": 2,
   "id": "7b751d37-651a-43ba-a9fd-527af01d6ca6",
   "metadata": {},
   "outputs": [
    {
     "data": {
      "text/plain": [
       "int"
      ]
     },
     "execution_count": 2,
     "metadata": {},
     "output_type": "execute_result"
    }
   ],
   "source": [
    "type(a)"
   ]
  },
  {
   "cell_type": "code",
   "execution_count": 3,
   "id": "0f07562f-5965-4da1-b98a-51642de3f4ed",
   "metadata": {},
   "outputs": [],
   "source": [
    "b= 4.00"
   ]
  },
  {
   "cell_type": "code",
   "execution_count": 4,
   "id": "522ef103-a029-4655-94e2-4ceabb48b56c",
   "metadata": {},
   "outputs": [
    {
     "data": {
      "text/plain": [
       "float"
      ]
     },
     "execution_count": 4,
     "metadata": {},
     "output_type": "execute_result"
    }
   ],
   "source": [
    "type(b)"
   ]
  },
  {
   "cell_type": "code",
   "execution_count": 5,
   "id": "dc16ed55-b736-42fc-9bf4-2456dab66cf5",
   "metadata": {},
   "outputs": [],
   "source": [
    "c = \"hi\""
   ]
  },
  {
   "cell_type": "code",
   "execution_count": 6,
   "id": "201d74a4-15f0-4ea0-a445-07d121e81736",
   "metadata": {},
   "outputs": [
    {
     "data": {
      "text/plain": [
       "str"
      ]
     },
     "execution_count": 6,
     "metadata": {},
     "output_type": "execute_result"
    }
   ],
   "source": [
    "type(c)"
   ]
  },
  {
   "cell_type": "code",
   "execution_count": 15,
   "id": "75be9867-ccf5-4f81-940f-e7ca6833f5ff",
   "metadata": {},
   "outputs": [],
   "source": [
    "a= 4\n",
    "b=10\n",
    "c=23"
   ]
  },
  {
   "cell_type": "code",
   "execution_count": 23,
   "id": "79a4a6a3-0ecc-466e-9257-7d225a73c528",
   "metadata": {},
   "outputs": [
    {
     "data": {
      "text/plain": [
       "True"
      ]
     },
     "execution_count": 23,
     "metadata": {},
     "output_type": "execute_result"
    }
   ],
   "source": [
    "a>6 or b<12"
   ]
  },
  {
   "cell_type": "code",
   "execution_count": 26,
   "id": "b212599c-99ea-4397-9713-38f098132bd8",
   "metadata": {},
   "outputs": [
    {
     "data": {
      "text/plain": [
       "True"
      ]
     },
     "execution_count": 26,
     "metadata": {},
     "output_type": "execute_result"
    }
   ],
   "source": [
    "A = \"India\"\n",
    "\"i\" in A"
   ]
  },
  {
   "cell_type": "code",
   "execution_count": 28,
   "id": "72b521ed-e216-4c80-a9b9-acde854b17a2",
   "metadata": {},
   "outputs": [
    {
     "name": "stdin",
     "output_type": "stream",
     "text": [
      "Enter your first name= Akhil\n",
      "Enter your last Name= Negi\n"
     ]
    },
    {
     "name": "stdout",
     "output_type": "stream",
     "text": [
      "My name is = Akhil Negi\n"
     ]
    }
   ],
   "source": [
    "x= input(\"Enter your first name=\")\n",
    "y=input(\"Enter your last Name=\")\n",
    "print(\"My name is =\", x,y)\n",
    "\n",
    "         "
   ]
  },
  {
   "cell_type": "code",
   "execution_count": 72,
   "id": "4cb0da7e-de06-406b-a402-6f8316097b44",
   "metadata": {},
   "outputs": [
    {
     "data": {
      "text/plain": [
       "True"
      ]
     },
     "execution_count": 72,
     "metadata": {},
     "output_type": "execute_result"
    }
   ],
   "source": [
    "a=45\n",
    "b=23\n",
    "c=65\n",
    "a>=23\n"
   ]
  },
  {
   "cell_type": "code",
   "execution_count": 74,
   "id": "39e71c7e-b21f-45c7-a1a9-ed1b8bd627c0",
   "metadata": {},
   "outputs": [
    {
     "name": "stdout",
     "output_type": "stream",
     "text": [
      "133\n"
     ]
    }
   ],
   "source": [
    "print(a+b+c)"
   ]
  },
  {
   "cell_type": "code",
   "execution_count": null,
   "id": "aa443e94-09eb-4f67-8e38-028c8b75923c",
   "metadata": {},
   "outputs": [],
   "source": [
    "# identifiers= variable- class, function, memthod,etc..\n",
    "# Airthmetic opr= +, -,*,//,/,%\n",
    "# Comparsion opr= ==,!=,>,<,<=,\n",
    "# Logical opr= and, or\n",
    "# Membership opr= in , not in\n",
    "# Input( Static , Dynamic)\n"
   ]
  },
  {
   "cell_type": "code",
   "execution_count": null,
   "id": "ade4429b-ee3b-4655-a254-612f1636a8e7",
   "metadata": {},
   "outputs": [],
   "source": []
  },
  {
   "cell_type": "code",
   "execution_count": null,
   "id": "02e3a34f-fa0f-4989-8e9a-63deb3a79e3f",
   "metadata": {},
   "outputs": [],
   "source": [
    "\n",
    "\n"
   ]
  }
 ],
 "metadata": {
  "kernelspec": {
   "display_name": "Python 3 (ipykernel)",
   "language": "python",
   "name": "python3"
  },
  "language_info": {
   "codemirror_mode": {
    "name": "ipython",
    "version": 3
   },
   "file_extension": ".py",
   "mimetype": "text/x-python",
   "name": "python",
   "nbconvert_exporter": "python",
   "pygments_lexer": "ipython3",
   "version": "3.11.7"
  }
 },
 "nbformat": 4,
 "nbformat_minor": 5
}
